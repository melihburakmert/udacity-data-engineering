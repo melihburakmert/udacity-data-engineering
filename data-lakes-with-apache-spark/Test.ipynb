{
 "cells": [
  {
   "cell_type": "code",
   "execution_count": 1,
   "metadata": {
    "editable": true
   },
   "outputs": [],
   "source": [
    "# Purge the result directory\n",
    "! rm -rf ./result/*"
   ]
  },
  {
   "cell_type": "code",
   "execution_count": 2,
   "metadata": {
    "editable": true
   },
   "outputs": [],
   "source": [
    "# Unzip the sample data\n",
    "# % run unzip.py"
   ]
  },
  {
   "cell_type": "code",
   "execution_count": 3,
   "metadata": {
    "editable": true
   },
   "outputs": [],
   "source": [
    "# Run the pipeline\n",
    "% run etl.py"
   ]
  },
  {
   "cell_type": "code",
   "execution_count": 4,
   "metadata": {
    "editable": true
   },
   "outputs": [],
   "source": [
    "# Create spark session\n",
    "from pyspark.sql import SparkSession\n",
    "\n",
    "spark = SparkSession \\\n",
    "        .builder \\\n",
    "        .config(\"spark.jars.packages\", \"org.apache.hadoop:hadoop-aws:2.7.0\") \\\n",
    "        .getOrCreate()"
   ]
  },
  {
   "cell_type": "code",
   "execution_count": 5,
   "metadata": {
    "editable": true
   },
   "outputs": [],
   "source": [
    "# Run the queries to read the local output"
   ]
  },
  {
   "cell_type": "code",
   "execution_count": 6,
   "metadata": {
    "editable": true
   },
   "outputs": [
    {
     "name": "stdout",
     "output_type": "stream",
     "text": [
      "root\n",
      " |-- artist_id: string (nullable = true)\n",
      " |-- artist_name: string (nullable = true)\n",
      " |-- artist_location: string (nullable = true)\n",
      " |-- artist_latitude: double (nullable = true)\n",
      " |-- artist_longitude: double (nullable = true)\n",
      "\n",
      "+------------------+--------------------+--------------------+---------------+----------------+\n",
      "|         artist_id|         artist_name|     artist_location|artist_latitude|artist_longitude|\n",
      "+------------------+--------------------+--------------------+---------------+----------------+\n",
      "|ARMAC4T1187FB3FA4C|The Dillinger Esc...|   Morris Plains, NJ|       40.82624|       -74.47995|\n",
      "|AROUOZZ1187B9ABE51|         Willie Bobo|New York, NY [Spa...|       40.79195|       -73.94512|\n",
      "|ARI2JSK1187FB496EF|Nick Ingman;Gavyn...|     London, England|       51.50632|        -0.12714|\n",
      "|AREBBGV1187FB523D2|Mike Jones (Featu...|         Houston, TX|           null|            null|\n",
      "|ARD842G1187B997376|          Blue Rodeo|Toronto, Ontario,...|       43.64856|       -79.38533|\n",
      "|ARDR4AC1187FB371A1|Montserrat Caball...|                    |           null|            null|\n",
      "|AR47JEX1187B995D81|        SUE THOMPSON|          Nevada, MO|       37.83721|       -94.35868|\n",
      "|ARIG6O41187B988BDD|     Richard Souther|       United States|       37.16793|       -95.84502|\n",
      "|AR0RCMP1187FB3F427|    Billie Jo Spears|        Beaumont, TX|       30.08615|       -94.10158|\n",
      "|AR3JMC51187B9AE49D|     Backstreet Boys|         Orlando, FL|       28.53823|       -81.37739|\n",
      "+------------------+--------------------+--------------------+---------------+----------------+\n",
      "only showing top 10 rows\n",
      "\n"
     ]
    }
   ],
   "source": [
    "# Artists\n",
    "df_artists=spark.read.parquet(\"result/artists/*.parquet\")\n",
    "df_artists.printSchema()\n",
    "df_artists.show(10)"
   ]
  },
  {
   "cell_type": "code",
   "execution_count": 7,
   "metadata": {
    "editable": true
   },
   "outputs": [
    {
     "name": "stdout",
     "output_type": "stream",
     "text": [
      "root\n",
      " |-- song_id: string (nullable = true)\n",
      " |-- title: string (nullable = true)\n",
      " |-- duration: double (nullable = true)\n",
      "\n",
      "+------------------+--------------------+---------+\n",
      "|           song_id|               title| duration|\n",
      "+------------------+--------------------+---------+\n",
      "|SOAOIBZ12AB01815BE|I Hold Your Hand ...| 43.36281|\n",
      "|SONYPOM12A8C13B2D7|I Think My Wife I...|186.48771|\n",
      "|SODREIN12A58A7F2E5|A Whiter Shade Of...|326.00771|\n",
      "|SOYMRWW12A6D4FAB14|The Moon And I (O...| 267.7024|\n",
      "|SOWQTQZ12A58A7B63E|Streets On Fire (...|279.97995|\n",
      "|SOUDSGM12AC9618304|Insatiable (Instr...|266.39628|\n",
      "|SOPEGZN12AB0181B3D|Get Your Head Stu...| 45.66159|\n",
      "|SOBBUGU12A8C13E95D|Setting Fire to S...|207.77751|\n",
      "|SOBAYLL12A8C138AF9|Sono andati? Fing...|511.16363|\n",
      "|SOOLYAZ12A6701F4A6|Laws Patrolling (...|173.66159|\n",
      "+------------------+--------------------+---------+\n",
      "only showing top 10 rows\n",
      "\n"
     ]
    }
   ],
   "source": [
    "# Songs\n",
    "df_songs=spark.read.parquet(\"result/songs/*/*/*.parquet\")\n",
    "df_songs.printSchema()\n",
    "df_songs.show(10)"
   ]
  },
  {
   "cell_type": "code",
   "execution_count": 8,
   "metadata": {
    "editable": true
   },
   "outputs": [
    {
     "name": "stdout",
     "output_type": "stream",
     "text": [
      "root\n",
      " |-- start_time: timestamp (nullable = true)\n",
      " |-- hour: integer (nullable = true)\n",
      " |-- day: integer (nullable = true)\n",
      " |-- week: integer (nullable = true)\n",
      " |-- weekday: integer (nullable = true)\n",
      "\n",
      "+--------------------+----+---+----+-------+\n",
      "|          start_time|hour|day|week|weekday|\n",
      "+--------------------+----+---+----+-------+\n",
      "|2018-11-15 00:30:...|   0| 15|  46|      5|\n",
      "|2018-11-15 00:41:...|   0| 15|  46|      5|\n",
      "|2018-11-15 00:45:...|   0| 15|  46|      5|\n",
      "|2018-11-15 03:44:...|   3| 15|  46|      5|\n",
      "|2018-11-15 05:48:...|   5| 15|  46|      5|\n",
      "|2018-11-15 05:53:...|   5| 15|  46|      5|\n",
      "|2018-11-15 05:55:...|   5| 15|  46|      5|\n",
      "|2018-11-15 06:01:...|   6| 15|  46|      5|\n",
      "|2018-11-15 06:07:...|   6| 15|  46|      5|\n",
      "|2018-11-15 06:10:...|   6| 15|  46|      5|\n",
      "+--------------------+----+---+----+-------+\n",
      "only showing top 10 rows\n",
      "\n"
     ]
    }
   ],
   "source": [
    "# Time\n",
    "df_time=spark.read.parquet(\"result/time/*/*/*.parquet\")\n",
    "df_time.printSchema()\n",
    "df_time.show(10)"
   ]
  },
  {
   "cell_type": "code",
   "execution_count": 9,
   "metadata": {
    "editable": true
   },
   "outputs": [
    {
     "name": "stdout",
     "output_type": "stream",
     "text": [
      "root\n",
      " |-- user_id: string (nullable = true)\n",
      " |-- first_name: string (nullable = true)\n",
      " |-- last_name: string (nullable = true)\n",
      " |-- gender: string (nullable = true)\n",
      " |-- level: string (nullable = true)\n",
      "\n",
      "+-------+----------+---------+------+-----+\n",
      "|user_id|first_name|last_name|gender|level|\n",
      "+-------+----------+---------+------+-----+\n",
      "|     88|  Mohammad|Rodriguez|     M| paid|\n",
      "|     88|  Mohammad|Rodriguez|     M| free|\n",
      "|     75|    Joseph|Gutierrez|     M| free|\n",
      "|     11| Christian|   Porter|     F| free|\n",
      "|     53|   Celeste| Williams|     F| free|\n",
      "|     77| Magdalene|   Herman|     F| free|\n",
      "|     69|  Anabelle|  Simpson|     F| free|\n",
      "|     61|    Samuel| Gonzalez|     M| free|\n",
      "|     45|  Dominick|   Norris|     M| free|\n",
      "|     89|   Kynnedi|  Sanchez|     F| free|\n",
      "+-------+----------+---------+------+-----+\n",
      "only showing top 10 rows\n",
      "\n"
     ]
    }
   ],
   "source": [
    "# Users\n",
    "df_users=spark.read.parquet(\"result/users/*.parquet\")\n",
    "df_users.printSchema()\n",
    "df_users.show(10)"
   ]
  },
  {
   "cell_type": "code",
   "execution_count": 10,
   "metadata": {
    "editable": true
   },
   "outputs": [
    {
     "name": "stdout",
     "output_type": "stream",
     "text": [
      "root\n",
      " |-- songplay_id: long (nullable = true)\n",
      " |-- start_time: timestamp (nullable = true)\n",
      " |-- user_id: string (nullable = true)\n",
      " |-- level: string (nullable = true)\n",
      " |-- song_id: string (nullable = true)\n",
      " |-- artist_id: string (nullable = true)\n",
      " |-- session_id: long (nullable = true)\n",
      " |-- location: string (nullable = true)\n",
      " |-- user_agent: string (nullable = true)\n",
      "\n",
      "+-----------+--------------------+-------+-----+------------------+------------------+----------+--------------------+--------------------+\n",
      "|songplay_id|          start_time|user_id|level|           song_id|         artist_id|session_id|            location|          user_agent|\n",
      "+-----------+--------------------+-------+-----+------------------+------------------+----------+--------------------+--------------------+\n",
      "|          0|2018-11-21 21:56:...|     15| paid|SOZCTXZ12AB0182364|AR5KOSW1187FB35FF4|       818|Chicago-Napervill...|\"Mozilla/5.0 (X11...|\n",
      "+-----------+--------------------+-------+-----+------------------+------------------+----------+--------------------+--------------------+\n",
      "\n"
     ]
    }
   ],
   "source": [
    "# Songplays\n",
    "df_songplays=spark.read.parquet(\"result/songplays/*/*/*.parquet\")\n",
    "df_songplays.printSchema()\n",
    "df_songplays.show(10)"
   ]
  },
  {
   "cell_type": "code",
   "execution_count": null,
   "metadata": {
    "editable": true
   },
   "outputs": [],
   "source": []
  }
 ],
 "metadata": {
  "kernelspec": {
   "display_name": "Python 3",
   "language": "python",
   "name": "python3"
  },
  "language_info": {
   "codemirror_mode": {
    "name": "ipython",
    "version": 3
   },
   "file_extension": ".py",
   "mimetype": "text/x-python",
   "name": "python",
   "nbconvert_exporter": "python",
   "pygments_lexer": "ipython3",
   "version": "3.6.3"
  }
 },
 "nbformat": 4,
 "nbformat_minor": 4
}
