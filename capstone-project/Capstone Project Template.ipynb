{
 "cells": [
  {
   "cell_type": "markdown",
   "metadata": {},
   "source": [
    "# Data Engineering Capstone Project\n",
    "\n",
    "### Overview\n",
    "The purpose of the data engineering capstone project is to combine what you've learned throughout the program. This project will be an important part of your portfolio that will help you achieve your data engineering-related career goals.\n",
    "\n",
    "I will be assuming I am working as a data engineer for a company building a web platform for the people interested in moving to US.\n",
    "My team is working on a project to prepare statistical data showing correlation between the climate of US states and origin of the expats who have moved to there, and change of this data by time.\n",
    "\n",
    "I will prepare a Data Lake for the Data Scientist and Analysits where the data is flexible enough to work with differents use cases in the scope of the project and clean enough to eliminate unneccesary work and use of resources.\n",
    "\n",
    "The project follows the follow steps:\n",
    "* Step 1: Scope the Project and Gather Data\n",
    "* Step 2: Explore and Assess the Data\n",
    "* Step 3: Define the Data Model\n",
    "* Step 4: Run ETL to Model the Data\n",
    "* Step 5: Complete Project Write Up"
   ]
  },
  {
   "cell_type": "markdown",
   "metadata": {},
   "source": [
    "### Step 1: Scope the Project and Gather Data\n",
    "\n",
    "#### Scope \n",
    "I will prepare a Data Lake for the Data Scientist and Analysits where the data is flexible enough to work with differents use cases in the scope of the project and clean enough to eliminate unneccesary work and use of resources.\n",
    "\n",
    "The data will be residing in Amazon S3, staged and transformed with Apache Spark on Amazon EMR clusters by PySpark and then loaded into Relational PostgreSQL tables. The tools can be expanded with Apache Airflow to work on the data with iterations, and schedule the pipeline in case the process will be updating with further up to date data.\n",
    "\n",
    "#### Describe and Gather Data\n",
    "\n",
    "There will be 4 different data sources used:\n",
    "- i94 Immigration Data [https://travel.trade.gov/research/reports/i94/historical/2016.html]\n",
    "- US Cities: Demographics [https://public.opendatasoft.com/explore/dataset/us-cities-demographics/table/]\n",
    "- Climate Change: Earth Surface Temperature Data [https://www.kaggle.com/datasets/berkeleyearth/climate-change-earth-surface-temperature-data]\n",
    "- US States and State Codes\n",
    "\n",
    "Note: The data is assumed to be in S3 buckets, however, due to some problems in workspace, it will be consumed directly from workspace folders."
   ]
  },
  {
   "cell_type": "code",
   "execution_count": 13,
   "metadata": {},
   "outputs": [],
   "source": [
    "# Upload the data on S3\n",
    "# %run scripts/upload_to_s3.py"
   ]
  },
  {
   "cell_type": "code",
   "execution_count": 1,
   "metadata": {},
   "outputs": [],
   "source": [
    "# Copy provided sas_data into a proper folder\n",
    "!cp -R sas_data staging_parquet/immigration_data"
   ]
  },
  {
   "cell_type": "code",
   "execution_count": 3,
   "metadata": {},
   "outputs": [],
   "source": [
    "!rm -rf staging_parquet/demographics_data\n",
    "!rm -rf staging_parquet/temperature_data\n",
    "!rm -rf staging_parquet/state_data\n",
    "!rm -rf staging_parquet/immigration_data\n",
    "\n",
    "!rm -rf output_parquet"
   ]
  },
  {
   "cell_type": "code",
   "execution_count": 4,
   "metadata": {},
   "outputs": [
    {
     "name": "stdout",
     "output_type": "stream",
     "text": [
      "Creating Spark session..\n",
      "Spark session is ready.\n",
      "Reading data from data_sources/us-cities-demographics.csv.\n",
      "Writing parquet file to staging_parquet/demographics_data.\n",
      "Reading data from data_sources/GlobalLandTemperaturesByState.csv.\n",
      "Writing parquet file to staging_parquet/temperature_data.\n",
      "Reading data from data_sources/states.csv.\n",
      "Writing parquet file to staging_parquet/state_data.\n",
      "Reading from sas_data.\n",
      "root\n",
      " |-- cicid: double (nullable = true)\n",
      " |-- i94yr: double (nullable = true)\n",
      " |-- i94mon: double (nullable = true)\n",
      " |-- i94cit: double (nullable = true)\n",
      " |-- i94res: double (nullable = true)\n",
      " |-- i94port: string (nullable = true)\n",
      " |-- arrdate: double (nullable = true)\n",
      " |-- i94mode: double (nullable = true)\n",
      " |-- i94addr: string (nullable = true)\n",
      " |-- depdate: double (nullable = true)\n",
      " |-- i94bir: double (nullable = true)\n",
      " |-- i94visa: double (nullable = true)\n",
      " |-- count: double (nullable = true)\n",
      " |-- dtadfile: string (nullable = true)\n",
      " |-- visapost: string (nullable = true)\n",
      " |-- occup: string (nullable = true)\n",
      " |-- entdepa: string (nullable = true)\n",
      " |-- entdepd: string (nullable = true)\n",
      " |-- entdepu: string (nullable = true)\n",
      " |-- matflag: string (nullable = true)\n",
      " |-- biryear: double (nullable = true)\n",
      " |-- dtaddto: string (nullable = true)\n",
      " |-- gender: string (nullable = true)\n",
      " |-- insnum: string (nullable = true)\n",
      " |-- airline: string (nullable = true)\n",
      " |-- admnum: double (nullable = true)\n",
      " |-- fltno: string (nullable = true)\n",
      " |-- visatype: string (nullable = true)\n",
      "\n",
      "+---------+------+------+------+------+-------+-------+-------+-------+-------+------+-------+-----+--------+--------+-----+-------+-------+-------+-------+-------+--------+------+------+-------+--------------+-----+--------+\n",
      "|    cicid| i94yr|i94mon|i94cit|i94res|i94port|arrdate|i94mode|i94addr|depdate|i94bir|i94visa|count|dtadfile|visapost|occup|entdepa|entdepd|entdepu|matflag|biryear| dtaddto|gender|insnum|airline|        admnum|fltno|visatype|\n",
      "+---------+------+------+------+------+-------+-------+-------+-------+-------+------+-------+-----+--------+--------+-----+-------+-------+-------+-------+-------+--------+------+------+-------+--------------+-----+--------+\n",
      "|5748517.0|2016.0|   4.0| 245.0| 438.0|    LOS|20574.0|    1.0|     CA|20582.0|  40.0|    1.0|  1.0|20160430|     SYD| null|      G|      O|   null|      M| 1976.0|10292016|     F|  null|     QF|9.495387003E10|00011|      B1|\n",
      "|5748518.0|2016.0|   4.0| 245.0| 438.0|    LOS|20574.0|    1.0|     NV|20591.0|  32.0|    1.0|  1.0|20160430|     SYD| null|      G|      O|   null|      M| 1984.0|10292016|     F|  null|     VA|9.495562283E10|00007|      B1|\n",
      "|5748519.0|2016.0|   4.0| 245.0| 438.0|    LOS|20574.0|    1.0|     WA|20582.0|  29.0|    1.0|  1.0|20160430|     SYD| null|      G|      O|   null|      M| 1987.0|10292016|     M|  null|     DL|9.495640653E10|00040|      B1|\n",
      "|5748520.0|2016.0|   4.0| 245.0| 438.0|    LOS|20574.0|    1.0|     WA|20588.0|  29.0|    1.0|  1.0|20160430|     SYD| null|      G|      O|   null|      M| 1987.0|10292016|     F|  null|     DL|9.495645143E10|00040|      B1|\n",
      "|5748521.0|2016.0|   4.0| 245.0| 438.0|    LOS|20574.0|    1.0|     WA|20588.0|  28.0|    1.0|  1.0|20160430|     SYD| null|      G|      O|   null|      M| 1988.0|10292016|     M|  null|     DL|9.495638813E10|00040|      B1|\n",
      "+---------+------+------+------+------+-------+-------+-------+-------+-------+------+-------+-----+--------+--------+-----+-------+-------+-------+-------+-------+--------+------+------+-------+--------------+-----+--------+\n",
      "only showing top 5 rows\n",
      "\n",
      "Reading from staging_parquet/demographics_data.\n",
      "root\n",
      " |-- City: string (nullable = true)\n",
      " |-- State: string (nullable = true)\n",
      " |-- Median_Age: string (nullable = true)\n",
      " |-- Male_Population: string (nullable = true)\n",
      " |-- Female_Population: string (nullable = true)\n",
      " |-- Total_Population: string (nullable = true)\n",
      " |-- Number_of_Veterans: string (nullable = true)\n",
      " |-- Foreign_born: string (nullable = true)\n",
      " |-- Average_Household_Size: string (nullable = true)\n",
      " |-- State_Code: string (nullable = true)\n",
      " |-- Race: string (nullable = true)\n",
      " |-- Count: string (nullable = true)\n",
      "\n",
      "+----------------+-------------+----------+---------------+-----------------+----------------+------------------+------------+----------------------+----------+--------------------+-----+\n",
      "|            City|        State|Median_Age|Male_Population|Female_Population|Total_Population|Number_of_Veterans|Foreign_born|Average_Household_Size|State_Code|                Race|Count|\n",
      "+----------------+-------------+----------+---------------+-----------------+----------------+------------------+------------+----------------------+----------+--------------------+-----+\n",
      "|   Silver Spring|     Maryland|      33.8|          40601|            41862|           82463|              1562|       30908|                   2.6|        MD|  Hispanic or Latino|25924|\n",
      "|          Quincy|Massachusetts|      41.0|          44129|            49500|           93629|              4147|       32935|                  2.39|        MA|               White|58723|\n",
      "|          Hoover|      Alabama|      38.5|          38040|            46799|           84839|              4819|        8229|                  2.58|        AL|               Asian| 4759|\n",
      "|Rancho Cucamonga|   California|      34.5|          88127|            87105|          175232|              5821|       33878|                  3.18|        CA|Black or African-...|24437|\n",
      "|          Newark|   New Jersey|      34.6|         138040|           143873|          281913|              5829|       86253|                  2.73|        NJ|               White|76402|\n",
      "+----------------+-------------+----------+---------------+-----------------+----------------+------------------+------------+----------------------+----------+--------------------+-----+\n",
      "only showing top 5 rows\n",
      "\n",
      "Reading from staging_parquet/temperature_data.\n",
      "root\n",
      " |-- dt: string (nullable = true)\n",
      " |-- AverageTemperature: string (nullable = true)\n",
      " |-- AverageTemperatureUncertainty: string (nullable = true)\n",
      " |-- State: string (nullable = true)\n",
      " |-- Country: string (nullable = true)\n",
      "\n",
      "+----------+-------------------+-----------------------------+-------+-------------+\n",
      "|        dt| AverageTemperature|AverageTemperatureUncertainty|  State|      Country|\n",
      "+----------+-------------------+-----------------------------+-------+-------------+\n",
      "|1974-11-01|  6.212999999999999|                        0.308|Indiana|United States|\n",
      "|1974-12-01|              0.465|                         0.23|Indiana|United States|\n",
      "|1975-01-01|0.01100000000000012|                        0.217|Indiana|United States|\n",
      "|1975-02-01|             -0.217|                        0.215|Indiana|United States|\n",
      "|1975-03-01| 2.9110000000000005|                        0.099|Indiana|United States|\n",
      "+----------+-------------------+-----------------------------+-------+-------------+\n",
      "only showing top 5 rows\n",
      "\n",
      "Reading from staging_parquet/state_data.\n",
      "root\n",
      " |-- State: string (nullable = true)\n",
      " |-- State_code: string (nullable = true)\n",
      "\n",
      "+----------+----------+\n",
      "|     State|State_code|\n",
      "+----------+----------+\n",
      "|   Alabama|        AL|\n",
      "|    Alaska|        AK|\n",
      "|   Arizona|        AZ|\n",
      "|  Arkansas|        AR|\n",
      "|California|        CA|\n",
      "+----------+----------+\n",
      "only showing top 5 rows\n",
      "\n"
     ]
    }
   ],
   "source": [
    "# Read data to parquet and describe tables, show first 5 lines of per table\n",
    "%run scripts/read_from_s3_and_write_to_parquet.py"
   ]
  },
  {
   "cell_type": "markdown",
   "metadata": {},
   "source": [
    "### Step 2: Explore and Assess the Data\n",
    "#### Explore the Data \n",
    "The arrival and departure date in i94 Immigration Data is not human readable, therefore we can convert it to Pandas datetime. I have provided a clean-up script for that, however I will do it on the fly during transform stage by using SQL functions.\n",
    "\n",
    "#### Cleaning Steps\n",
    "- During the describe step, it is identified that some source csv files do not have a header, or there are missing columns or unformatted. Before to continue next steps, the data should be properly formatted.\n",
    "- The data should be checked for null values for non-null planned columns. For my data, there wasn't any issue with null fields."
   ]
  },
  {
   "cell_type": "markdown",
   "metadata": {},
   "source": [
    "### Step 3: Define the Data Model\n",
    "#### 3.1 Conceptual Data Model\n",
    "The conceptual data model diagram is added below.\n",
    "\n",
    "I have decided to use a Relational Data model considering the data is quite flat, we won't need to apply joins a lot, also the data is well structured and unexpected to be changed frequently.\n",
    "\n",
    "We have 1 fact table: immigration, and 3 dimention tables: temperature, demographics, state.\n",
    "\n",
    "- Immigration table is extracted from i94 Immigration data, the unneccsary columns are left out.\n",
    "- Temperature table is extraction of Climate Change: Earth Surface Temperature Data, filtered based on US states.\n",
    "- Demographics table is extracted from US Demographics data. The data is grouped by state, as we don't need specific city data.\n",
    "- State_population table is basically a mapping between US state codes and names. Provided to add easy-to-read - representation for state codes.\n",
    "\n",
    "#### 3.2 Mapping Out Data Pipelines\n",
    "- Read data from S3 and stage into Dataframes in PySpark.\n",
    "- Create temporary view for tables in PySpark.\n",
    "- Extract and transform staged data and load into sql tables in parquet format.\n",
    "- Optional: Load parquet files to PostgreSQL tables with a db driver like SQLAlchemy in Python."
   ]
  },
  {
   "cell_type": "markdown",
   "metadata": {},
   "source": [
    "![Data_Model](img/data_model.png)"
   ]
  },
  {
   "cell_type": "markdown",
   "metadata": {},
   "source": [
    "### Step 4: Run Pipelines to Model the Data \n",
    "#### 4.1 Create the data model\n",
    "Build the data pipelines to create the data model."
   ]
  },
  {
   "cell_type": "code",
   "execution_count": 1,
   "metadata": {},
   "outputs": [
    {
     "name": "stdout",
     "output_type": "stream",
     "text": [
      "Creating Spark session..\n",
      "Spark session is ready.\n",
      "Starting ETL pipeline..\n",
      "Processing state data..\n",
      "Processing immigration data..\n",
      "Processing temperature data..\n",
      "Processing demographics data..\n",
      "Done.\n"
     ]
    }
   ],
   "source": [
    "%run etl/etl.py"
   ]
  },
  {
   "cell_type": "markdown",
   "metadata": {},
   "source": [
    "#### 4.2 Data Quality Checks\n",
    "Run Quality Checks below"
   ]
  },
  {
   "cell_type": "code",
   "execution_count": 2,
   "metadata": {},
   "outputs": [],
   "source": [
    "# Create spark session\n",
    "from pyspark.sql import SparkSession\n",
    "\n",
    "spark = SparkSession \\\n",
    "        .builder \\\n",
    "        .config(\"spark.jars.packages\", \"org.apache.hadoop:hadoop-aws:2.7.0\") \\\n",
    "        .getOrCreate()"
   ]
  },
  {
   "cell_type": "code",
   "execution_count": 3,
   "metadata": {},
   "outputs": [],
   "source": [
    "# Read and describe the relational tables "
   ]
  },
  {
   "cell_type": "code",
   "execution_count": 4,
   "metadata": {},
   "outputs": [
    {
     "name": "stdout",
     "output_type": "stream",
     "text": [
      "root\n",
      " |-- cicid: integer (nullable = true)\n",
      " |-- arrival_date: date (nullable = true)\n",
      " |-- departure_date: date (nullable = true)\n",
      " |-- citizenship_code: integer (nullable = true)\n",
      " |-- residency_code: integer (nullable = true)\n",
      " |-- i94_visa_type: integer (nullable = true)\n",
      " |-- temp_visa_type: string (nullable = true)\n",
      " |-- state_code: string (nullable = true)\n",
      "\n",
      "+-------+------------+--------------+----------------+--------------+-------------+--------------+----------+\n",
      "|  cicid|arrival_date|departure_date|citizenship_code|residency_code|i94_visa_type|temp_visa_type|state_code|\n",
      "+-------+------------+--------------+----------------+--------------+-------------+--------------+----------+\n",
      "|5965389|  2016-04-03|    2016-04-07|             252|           209|            2|           GMT|        GU|\n",
      "|5750212|  2016-04-30|    2016-05-02|             254|           209|            2|            WT|        GU|\n",
      "|6028179|  2016-04-22|    2016-04-26|             245|           245|            2|            CP|        GU|\n",
      "|5750213|  2016-04-30|    2016-05-02|             254|           209|            2|            WT|        GU|\n",
      "|6028180|  2016-04-22|    2016-04-26|             245|           245|            2|            CP|        GU|\n",
      "|5750214|  2016-04-30|    2016-05-03|             254|           209|            2|            WT|        GU|\n",
      "|1655212|  2016-04-09|          null|             574|           276|            2|            B2|        GU|\n",
      "|5750215|  2016-04-30|    2016-05-03|             254|           209|            2|            WT|        GU|\n",
      "|1655213|  2016-04-09|          null|             574|           276|            2|            B2|        GU|\n",
      "|5750216|  2016-04-30|    2016-05-03|             254|           209|            2|            WT|        GU|\n",
      "+-------+------------+--------------+----------------+--------------+-------------+--------------+----------+\n",
      "only showing top 10 rows\n",
      "\n"
     ]
    },
    {
     "data": {
      "text/plain": [
       "3096313"
      ]
     },
     "execution_count": 4,
     "metadata": {},
     "output_type": "execute_result"
    }
   ],
   "source": [
    "# Immigration\n",
    "df_fact_immigration=spark.read.parquet(\"output_parquet/fact_immigration/\")\n",
    "df_fact_immigration.printSchema()\n",
    "df_fact_immigration.show(10)\n",
    "df_fact_immigration.count()"
   ]
  },
  {
   "cell_type": "code",
   "execution_count": 5,
   "metadata": {},
   "outputs": [
    {
     "name": "stdout",
     "output_type": "stream",
     "text": [
      "root\n",
      " |-- dt: date (nullable = true)\n",
      " |-- avg_temp: float (nullable = true)\n",
      " |-- state_code: string (nullable = true)\n",
      "\n",
      "+----------+--------+----------+\n",
      "|        dt|avg_temp|state_code|\n",
      "+----------+--------+----------+\n",
      "|1743-11-01|  -0.831|        WI|\n",
      "|1743-12-01|    null|        WI|\n",
      "|1744-01-01|    null|        WI|\n",
      "|1744-02-01|    null|        WI|\n",
      "|1744-03-01|    null|        WI|\n",
      "|1744-04-01|   7.602|        WI|\n",
      "|1744-05-01|   12.48|        WI|\n",
      "|1744-06-01|  18.478|        WI|\n",
      "|1744-07-01|  20.284|        WI|\n",
      "|1744-08-01|    null|        WI|\n",
      "+----------+--------+----------+\n",
      "only showing top 10 rows\n",
      "\n"
     ]
    },
    {
     "data": {
      "text/plain": [
       "143267"
      ]
     },
     "execution_count": 5,
     "metadata": {},
     "output_type": "execute_result"
    }
   ],
   "source": [
    "# Temperature\n",
    "df_dim_temperature=spark.read.parquet(\"output_parquet/dim_temperature/\")\n",
    "df_dim_temperature.printSchema()\n",
    "df_dim_temperature.show(10)\n",
    "df_dim_temperature.count()"
   ]
  },
  {
   "cell_type": "code",
   "execution_count": 6,
   "metadata": {},
   "outputs": [
    {
     "name": "stdout",
     "output_type": "stream",
     "text": [
      "root\n",
      " |-- age_median: float (nullable = true)\n",
      " |-- m_population: long (nullable = true)\n",
      " |-- f_population: long (nullable = true)\n",
      " |-- population: long (nullable = true)\n",
      " |-- veterans: long (nullable = true)\n",
      " |-- foreign_born: long (nullable = true)\n",
      " |-- avg_household: double (nullable = true)\n",
      " |-- state_code: string (nullable = true)\n",
      "\n",
      "+----------+------------+------------+----------+--------+------------+------------------+----------+\n",
      "|age_median|m_population|f_population|population|veterans|foreign_born|     avg_household|state_code|\n",
      "+----------+------------+------------+----------+--------+------------+------------------+----------+\n",
      "|    37.775|     2045050|     2150160|   4195210|  302370|      445560| 2.584999978542328|        NM|\n",
      "| 36.173965|    61055672|    62388681| 123444353| 4617022|    37059662| 3.095325444224318|        CA|\n",
      "|  35.81875|     7273095|     7405250|  14678345|  939480|     1688155| 2.560000017285347|        CO|\n",
      "|  33.21111|      527627|      613916|   1141543|   67314|       21233|2.6011111471388073|        MS|\n",
      "|   30.8625|     2586752|     2532925|   5119677|  193165|      651811|3.1568750043710074|        UT|\n",
      "|     37.05|      613590|      611900|   1225490|   80435|       76545|2.3450000286102295|        SD|\n",
      "| 32.544117|     1772066|     1831937|   3604003|  197225|      309829|2.3820588378345264|        IA|\n",
      "|   35.0375|    11137275|    11360435|  22497710| 1322525|     3411565|2.7743750512599945|        AZ|\n",
      "| 33.951515|     5514704|     5988097|  11502801|  514487|     1439936|2.5075757864749795|        PA|\n",
      "| 33.379486|    34862194|    35691659|  70553853| 3429512|    14498054| 2.845128217459598|        TX|\n",
      "+----------+------------+------------+----------+--------+------------+------------------+----------+\n",
      "only showing top 10 rows\n",
      "\n"
     ]
    },
    {
     "data": {
      "text/plain": [
       "49"
      ]
     },
     "execution_count": 6,
     "metadata": {},
     "output_type": "execute_result"
    }
   ],
   "source": [
    "# Demographics\n",
    "df_dim_demographics=spark.read.parquet(\"output_parquet/dim_demographics/\")\n",
    "df_dim_demographics.printSchema()\n",
    "df_dim_demographics.show(10)\n",
    "df_dim_demographics.count()"
   ]
  },
  {
   "cell_type": "code",
   "execution_count": 7,
   "metadata": {},
   "outputs": [
    {
     "name": "stdout",
     "output_type": "stream",
     "text": [
      "root\n",
      " |-- state_code: string (nullable = true)\n",
      " |-- state: string (nullable = true)\n",
      "\n",
      "+----------+--------------------+\n",
      "|state_code|               state|\n",
      "+----------+--------------------+\n",
      "|        DC|District of Columbia|\n",
      "|        SC|      South Carolina|\n",
      "|        NC|      North Carolina|\n",
      "|        NH|       New Hampshire|\n",
      "|        WV|       West Virginia|\n",
      "|        MA|       Massachusetts|\n",
      "|        RI|        Rhode Island|\n",
      "|        ND|        North Dakota|\n",
      "|        SD|        South Dakota|\n",
      "|        PA|        Pennsylvania|\n",
      "+----------+--------------------+\n",
      "only showing top 10 rows\n",
      "\n"
     ]
    },
    {
     "data": {
      "text/plain": [
       "51"
      ]
     },
     "execution_count": 7,
     "metadata": {},
     "output_type": "execute_result"
    }
   ],
   "source": [
    "# Demographics\n",
    "df_dim_state=spark.read.parquet(\"output_parquet/dim_state/\")\n",
    "df_dim_state.printSchema()\n",
    "df_dim_state.show(10)\n",
    "df_dim_state.count()"
   ]
  },
  {
   "cell_type": "markdown",
   "metadata": {},
   "source": [
    "#### 4.3 Data dictionary \n",
    "Create a data dictionary for your data model. For each field, provide a brief description of what the data is and where it came from. You can include the data dictionary in the notebook or in a separate file."
   ]
  },
  {
   "cell_type": "markdown",
   "metadata": {},
   "source": [
    "#### fact_immigration"
   ]
  },
  {
   "cell_type": "markdown",
   "metadata": {},
   "source": [
    "| Column Name      | Data Type | Description                                            |\n",
    "|------------------|-----------|--------------------------------------------------------|\n",
    "| cicid            | int       | Primary key representing the unique immigration ID      |\n",
    "| arrival_date     | date      | Date of arrival in the destination country              |\n",
    "| departure_date   | date      | Date of departure from the destination country          |\n",
    "| citizenship_code | int       | Code representing the citizenship of the individual     |\n",
    "| residency_code   | int       | Code representing the residency status of the individual|\n",
    "| state_code       | char(2)   | Code representing the state within the destination country|\n",
    "| i94_visa_type    | int       | Code representing the type of visa                      |\n",
    "| temp_visa_type   | char(2)   | Temporary visa type                                     |"
   ]
  },
  {
   "cell_type": "markdown",
   "metadata": {},
   "source": [
    "#### dim_demographics"
   ]
  },
  {
   "cell_type": "markdown",
   "metadata": {},
   "source": [
    "| Column Name    | Data Type | Description                                               |\n",
    "|----------------|-----------|-----------------------------------------------------------|\n",
    "| state_code     | char(2)   | Primary key representing the state code                    |\n",
    "| age_median     | float     | Median age of the population in the state                  |\n",
    "| m_population   | int       | Total male population in the state                         |\n",
    "| f_population   | int       | Total female population in the state                       |\n",
    "| population     | int       | Total population in the state                              |\n",
    "| veterans       | int       | Number of veterans in the state                            |\n",
    "| foreign_born   | int       | Number of foreign-born residents in the state              |\n",
    "| avg_household  | float     | Average household size in the state                        |"
   ]
  },
  {
   "cell_type": "markdown",
   "metadata": {},
   "source": [
    "#### dim__temperature"
   ]
  },
  {
   "cell_type": "markdown",
   "metadata": {},
   "source": [
    "| Column Name | Data Type | Description                                        |\n",
    "|-------------|-----------|----------------------------------------------------|\n",
    "| dt          | date      | Primary key representing the date                   |\n",
    "| avg_temp    | float     | Average temperature for the given date              |\n",
    "| state_code  | char(2)   | Code representing the state within the temperature data |"
   ]
  },
  {
   "cell_type": "markdown",
   "metadata": {},
   "source": [
    "#### dim_state"
   ]
  },
  {
   "cell_type": "markdown",
   "metadata": {},
   "source": [
    "| Column Name | Data Type | Description                                          |\n",
    "|-------------|-----------|------------------------------------------------------|\n",
    "| state_code  | char(2)   | Primary key representing the state code               |\n",
    "| state       | varchar(255) | Name of the state                                    |"
   ]
  },
  {
   "cell_type": "markdown",
   "metadata": {},
   "source": [
    "#### Step 5: Complete Project Write Up\n",
    "* Clearly state the rationale for the choice of tools and technologies for the project.\n",
    "* Propose how often the data should be updated and why.\n",
    "* Write a description of how you would approach the problem differently under the following scenarios:\n",
    " * The data was increased by 100x.\n",
    " * The data populates a dashboard that must be updated on a daily basis by 7am every day.\n",
    " * The database needed to be accessed by 100+ people."
   ]
  },
  {
   "cell_type": "markdown",
   "metadata": {},
   "source": [
    "As I have better understanding of Relational DBs and as explained above, it is better suited for my data, I have chosen an SQL based approach. The data is already big, therefore parallel processing with Spark was important."
   ]
  },
  {
   "cell_type": "markdown",
   "metadata": {},
   "source": [
    "Data can be updated per year, as the source data includes governmental information, these kind of sources are provided only once a year. Also, the information we want to provide is not time-crucial, it is mostly historical data."
   ]
  },
  {
   "cell_type": "markdown",
   "metadata": {},
   "source": [
    "The data was increased by 100:\n",
    "- I would use larger machines on EMR cluster, look for better partitioning methods(e.g., month-year could be kept on Immigration data for partitioning, use better suited small data types instead of using auto-inferred PySpark data types."
   ]
  },
  {
   "cell_type": "markdown",
   "metadata": {},
   "source": [
    "The data populates a dashboard that must be updated on a daily basis by 7am every day.\n",
    "- We can use Apache Airflow to schedule the jobs daily by 7am. All the methods can be written with Airflow operators or hooks. "
   ]
  },
  {
   "cell_type": "markdown",
   "metadata": {},
   "source": [
    "The database needed to be accessed by 100+ people.\n",
    "- I would still use an RDBMS like PostgreSQL to supply ACID transactions for data integrity."
   ]
  },
  {
   "cell_type": "code",
   "execution_count": null,
   "metadata": {},
   "outputs": [],
   "source": []
  }
 ],
 "metadata": {
  "kernelspec": {
   "display_name": "Python 3",
   "language": "python",
   "name": "python3"
  },
  "language_info": {
   "codemirror_mode": {
    "name": "ipython",
    "version": 3
   },
   "file_extension": ".py",
   "mimetype": "text/x-python",
   "name": "python",
   "nbconvert_exporter": "python",
   "pygments_lexer": "ipython3",
   "version": "3.6.3"
  }
 },
 "nbformat": 4,
 "nbformat_minor": 4
}
